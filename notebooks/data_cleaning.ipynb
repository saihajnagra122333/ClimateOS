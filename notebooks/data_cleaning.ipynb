{
 "cells": [
  {
   "cell_type": "code",
   "execution_count": null,
   "id": "6277dace",
   "metadata": {
    "vscode": {
     "languageId": "plaintext"
    }
   },
   "outputs": [],
   "source": [
    "import pandas as pd\n",
    "\n",
    "# Example raw data\n",
    "data = pd.DataFrame({\n",
    "    \n",
    "    'lat': [19.0760, 28.7041, 13.0827],\n",
    "    'lon': [72.8777, 77.1025, 80.2707],\n",
    "    'soil_type': ['sandy', 'loamy', 'clay'],\n",
    "    'rainfall': [1200, 800, 1400],\n",
    "    'carbon_stock': [20, 35, 15]\n",
    "})\n",
    "\n",
    "# Clean up - drop NAs, etc.\n",
    "data_cleaned = data.dropna()\n",
    "data_cleaned.to_csv(\"../data/cleaned_soil_data.csv\", index=False)\n",
    "print(\"Saved cleaned data\")\n"
   ]
  },
  {
   "cell_type": "code",
   "execution_count": null,
   "id": "0f4c5a4d",
   "metadata": {
    "vscode": {
     "languageId": "plaintext"
    }
   },
   "outputs": [],
   "source": []
  }
 ],
 "metadata": {
  "language_info": {
   "name": "python"
  }
 },
 "nbformat": 4,
 "nbformat_minor": 5
}
